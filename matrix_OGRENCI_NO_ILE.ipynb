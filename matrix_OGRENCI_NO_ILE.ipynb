{
  "nbformat": 4,
  "nbformat_minor": 0,
  "metadata": {
    "colab": {
      "provenance": []
    },
    "kernelspec": {
      "name": "python3",
      "display_name": "Python 3"
    },
    "language_info": {
      "name": "python"
    }
  },
  "cells": [
    {
      "cell_type": "code",
      "execution_count": 27,
      "metadata": {
        "colab": {
          "base_uri": "https://localhost:8080/"
        },
        "id": "bwD9K3yTOQSg",
        "outputId": "adf22ae2-33b0-447b-80b4-554c95d994a7"
      },
      "outputs": [
        {
          "output_type": "stream",
          "name": "stdout",
          "text": [
            "tensor([[0.9105, 0.9662]])\n"
          ]
        }
      ],
      "source": [
        "import torch\n",
        "\n",
        "# Başlangıç durumunu tanımlama\n",
        "torch.manual_seed(180401122)\n",
        "\n",
        "# Aktivasyon fonksiyonlarını tanımlama\n",
        "def tanh(x):\n",
        "    return (torch.exp(x) - torch.exp(-x)) / (torch.exp(x) + torch.exp(-x))\n",
        "\n",
        "def sigmoid(x):\n",
        "    return 1 / (1 + torch.exp(-x))\n",
        "\n",
        "# Ağın boyutlarını tanımlama\n",
        "girdi_boyutu = 3\n",
        "gizli_katman_boyutu = 50\n",
        "cikti_boyutu = 1\n",
        "\n",
        "# Girdi matrisini tanımlama ve tensöre dönüştürme\n",
        "X = torch.tensor([[1, 2, 3], [4, 5, 6]], dtype=torch.float32)\n",
        "\n",
        "# Ağırlıkları ve biasları tanımlama\n",
        "W1 = torch.randn(gizli_katman_boyutu, girdi_boyutu)\n",
        "b1 = torch.randn(gizli_katman_boyutu, 1)\n",
        "W2 = torch.randn(cikti_boyutu, gizli_katman_boyutu)\n",
        "b2 = torch.randn(cikti_boyutu, 1)\n",
        "\n",
        "# İleri besleme yapma\n",
        "gizli_katman_ciktisi = tanh(torch.mm(W1, X.t()) + b1)\n",
        "cikti_katmani_ciktisi = sigmoid(torch.mm(W2, gizli_katman_ciktisi) + b2)\n",
        "\n",
        "# Çıktı katmanını yazdırma\n",
        "print(cikti_katmani_ciktisi)\n"
      ]
    },
    {
      "cell_type": "code",
      "source": [],
      "metadata": {
        "id": "7n8AGR3BoY6Y"
      },
      "execution_count": null,
      "outputs": []
    }
  ]
}